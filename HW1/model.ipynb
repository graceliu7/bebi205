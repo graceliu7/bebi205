{
 "cells": [
  {
   "cell_type": "code",
   "execution_count": 1,
   "metadata": {},
   "outputs": [],
   "source": [
    "import numpy as np\n",
    "import torch\n",
    "import torch.nn as nn\n",
    "import torch.optim as optim\n",
    "from torch.utils.data import Dataset, DataLoader\n",
    "from tqdm import tqdm\n",
    "from sklearn.metrics import confusion_matrix\n"
   ]
  },
  {
   "cell_type": "code",
   "execution_count": 2,
   "metadata": {},
   "outputs": [],
   "source": [
    "cells = np.load(\"cell_channels.npy\", allow_pickle=True)\n",
    "# cells = cells[:2000]\n",
    "labels = np.load(\"cell_labels.npy\", allow_pickle=True)\n",
    "# labels = labels[:2000]"
   ]
  },
  {
   "cell_type": "code",
   "execution_count": 3,
   "metadata": {},
   "outputs": [],
   "source": [
    "batch_size = 32\n",
    "lr = 0.01\n",
    "num_epochs = 10"
   ]
  },
  {
   "cell_type": "code",
   "execution_count": 4,
   "metadata": {},
   "outputs": [],
   "source": [
    "class CellData(Dataset):\n",
    "    def __init__(self, cells, labels):\n",
    "        self.cells = cells\n",
    "        self.labels = labels\n",
    "    \n",
    "    def __len__(self):\n",
    "        return len(self.labels)\n",
    "\n",
    "    def __getitem__(self, index):\n",
    "        x = self.cells[index]\n",
    "        y = self.labels[index]\n",
    "        return x, y"
   ]
  },
  {
   "cell_type": "code",
   "execution_count": 5,
   "metadata": {},
   "outputs": [],
   "source": [
    "cell_data = CellData(cells, labels)\n",
    "device = torch.device('cuda')\n",
    "train_size = int(0.8 * len(cell_data))\n",
    "test_size = len(cell_data) - train_size\n",
    "train_set, test_set = torch.utils.data.random_split(cell_data, [train_size, test_size])\n",
    "train_loader = DataLoader(train_set, batch_size=batch_size, shuffle=True)\n",
    "test_loader = DataLoader(test_set, batch_size=batch_size, shuffle=True)\n",
    "classes = np.unique(labels)"
   ]
  },
  {
   "cell_type": "code",
   "execution_count": 6,
   "metadata": {},
   "outputs": [],
   "source": [
    "class CNN(nn.Module):\n",
    "    def __init__(self):\n",
    "        super(CNN, self).__init__()\n",
    "        self.conv1 = nn.Conv2d(51, 32, kernel_size=(3, 3), stride=1, padding=1)\n",
    "        self.act1 = nn.ReLU()\n",
    "        self.drop = nn.Dropout(0.1)\n",
    "        self.conv2 = nn.Conv2d(32, 64, kernel_size=(3, 3), stride=1, padding=1)\n",
    "        self.act2 = nn.ReLU()\n",
    "        self.pool = nn.MaxPool2d(kernel_size=(2, 2))\n",
    "\n",
    "        self.fc1 = nn.Linear(64 * 32 * 32, 256)\n",
    "        self.act3 = nn.ReLU()\n",
    "        self.fc2 = nn.Linear(256, 18)\n",
    "        # self.softmax = nn.Softmax\n",
    "\n",
    "    def forward(self, x):\n",
    "        x = self.act1(self.conv1(x))\n",
    "        x = self.drop(x)\n",
    "        x = self.act2(self.conv2(x))\n",
    "        x = self.pool(x)\n",
    "        x = x.reshape(-1, 64 * 32 * 32)\n",
    "        x = self.act3(self.fc1(x))\n",
    "        # x = self.softmax(self.fc2(x))\n",
    "        x = self.fc2(x)\n",
    "        return x\n"
   ]
  },
  {
   "cell_type": "code",
   "execution_count": 7,
   "metadata": {},
   "outputs": [],
   "source": [
    "model = CNN()\n",
    "model.double()\n",
    "lossfn = nn.CrossEntropyLoss()\n",
    "optimizer = optim.Adam(model.parameters(), lr=0.1)\n",
    "\n",
    "model = model.to(device)"
   ]
  },
  {
   "cell_type": "markdown",
   "metadata": {},
   "source": [
    "After running for 10 epochs, I noticed that the loss/accuracy already plateaued, so I didn't train it any farther."
   ]
  },
  {
   "cell_type": "code",
   "execution_count": 8,
   "metadata": {},
   "outputs": [
    {
     "name": "stdout",
     "output_type": "stream",
     "text": [
      "Epoch: 0 of 10\n"
     ]
    },
    {
     "name": "stderr",
     "output_type": "stream",
     "text": [
      "100%|█████████████████████████████████████████| 133/133 [00:31<00:00,  4.26it/s]\n"
     ]
    },
    {
     "name": "stdout",
     "output_type": "stream",
     "text": [
      "Training loss: 2918.4842\n",
      "Training accuracy: 35.09\n",
      "Test loss: 2.1517\n",
      "Test accuracy: 23.84\n",
      "Epoch: 1 of 10\n"
     ]
    },
    {
     "name": "stderr",
     "output_type": "stream",
     "text": [
      "100%|█████████████████████████████████████████| 133/133 [00:27<00:00,  4.85it/s]\n"
     ]
    },
    {
     "name": "stdout",
     "output_type": "stream",
     "text": [
      "Training loss: 1.8964\n",
      "Training accuracy: 41.81\n",
      "Test loss: 1.7927\n",
      "Test accuracy: 44.84\n",
      "Epoch: 2 of 10\n"
     ]
    },
    {
     "name": "stderr",
     "output_type": "stream",
     "text": [
      "100%|█████████████████████████████████████████| 133/133 [00:27<00:00,  4.81it/s]\n"
     ]
    },
    {
     "name": "stdout",
     "output_type": "stream",
     "text": [
      "Training loss: 1.8371\n",
      "Training accuracy: 43.97\n",
      "Test loss: 1.8232\n",
      "Test accuracy: 44.84\n",
      "Epoch: 3 of 10\n"
     ]
    },
    {
     "name": "stderr",
     "output_type": "stream",
     "text": [
      "100%|█████████████████████████████████████████| 133/133 [00:27<00:00,  4.78it/s]\n"
     ]
    },
    {
     "name": "stdout",
     "output_type": "stream",
     "text": [
      "Training loss: 1.8226\n",
      "Training accuracy: 43.97\n",
      "Test loss: 1.7929\n",
      "Test accuracy: 44.84\n",
      "Epoch: 4 of 10\n"
     ]
    },
    {
     "name": "stderr",
     "output_type": "stream",
     "text": [
      "100%|█████████████████████████████████████████| 133/133 [00:27<00:00,  4.77it/s]\n"
     ]
    },
    {
     "name": "stdout",
     "output_type": "stream",
     "text": [
      "Training loss: 1.8295\n",
      "Training accuracy: 43.97\n",
      "Test loss: 1.8752\n",
      "Test accuracy: 44.84\n",
      "Epoch: 5 of 10\n"
     ]
    },
    {
     "name": "stderr",
     "output_type": "stream",
     "text": [
      "100%|█████████████████████████████████████████| 133/133 [00:27<00:00,  4.78it/s]\n"
     ]
    },
    {
     "name": "stdout",
     "output_type": "stream",
     "text": [
      "Training loss: 1.8241\n",
      "Training accuracy: 43.97\n",
      "Test loss: 1.9260\n",
      "Test accuracy: 44.84\n",
      "Epoch: 6 of 10\n"
     ]
    },
    {
     "name": "stderr",
     "output_type": "stream",
     "text": [
      "100%|█████████████████████████████████████████| 133/133 [00:27<00:00,  4.77it/s]\n"
     ]
    },
    {
     "name": "stdout",
     "output_type": "stream",
     "text": [
      "Training loss: 1.8163\n",
      "Training accuracy: 43.97\n",
      "Test loss: 1.7984\n",
      "Test accuracy: 44.84\n",
      "Epoch: 7 of 10\n"
     ]
    },
    {
     "name": "stderr",
     "output_type": "stream",
     "text": [
      "100%|█████████████████████████████████████████| 133/133 [00:27<00:00,  4.78it/s]\n"
     ]
    },
    {
     "name": "stdout",
     "output_type": "stream",
     "text": [
      "Training loss: 1.8197\n",
      "Training accuracy: 43.97\n",
      "Test loss: 1.8007\n",
      "Test accuracy: 44.84\n",
      "Epoch: 8 of 10\n"
     ]
    },
    {
     "name": "stderr",
     "output_type": "stream",
     "text": [
      "100%|█████████████████████████████████████████| 133/133 [00:27<00:00,  4.78it/s]\n"
     ]
    },
    {
     "name": "stdout",
     "output_type": "stream",
     "text": [
      "Training loss: 1.8245\n",
      "Training accuracy: 43.97\n",
      "Test loss: 1.8245\n",
      "Test accuracy: 44.84\n",
      "Epoch: 9 of 10\n"
     ]
    },
    {
     "name": "stderr",
     "output_type": "stream",
     "text": [
      "100%|█████████████████████████████████████████| 133/133 [00:27<00:00,  4.78it/s]\n"
     ]
    },
    {
     "name": "stdout",
     "output_type": "stream",
     "text": [
      "Training loss: 1.8213\n",
      "Training accuracy: 43.97\n",
      "Test loss: 1.7998\n",
      "Test accuracy: 44.84\n"
     ]
    }
   ],
   "source": [
    "for epoch in range(num_epochs):\n",
    "    print(\"Epoch: {} of {}\".format(epoch, num_epochs))\n",
    "    train_loss = 0\n",
    "    train_correct = 0\n",
    "    for inputs, targets in tqdm(train_loader):\n",
    "        inputs = inputs.to(device)\n",
    "        targets = targets.to(device)\n",
    "        inputs = inputs.permute(0, 3, 1, 2)\n",
    "        optimizer.zero_grad()\n",
    "        outputs = model(inputs)\n",
    "        loss = lossfn(outputs, targets)\n",
    "        loss.backward()\n",
    "        optimizer.step()\n",
    "        train_loss += loss.item()\n",
    "        _, predicted = torch.max(outputs.data, 1)\n",
    "        train_correct += (predicted == targets).sum().item()\n",
    "    train_loss /= len(train_loader)\n",
    "    train_acc = train_correct / len(train_set)\n",
    "    print(\"Training loss: {:.4f}\".format(train_loss))\n",
    "    print(\"Training accuracy: {:.2f}\".format(train_acc*100))\n",
    "\n",
    "    model.eval()\n",
    "    test_loss = 0\n",
    "    test_correct = 0\n",
    "    with torch.no_grad():\n",
    "        for inputs, targets in test_loader:\n",
    "            inputs = inputs.to(device)\n",
    "            targets = targets.to(device)\n",
    "            inputs = inputs.permute(0, 3, 1, 2)\n",
    "            outputs = model(inputs)\n",
    "            loss = lossfn(outputs, targets)\n",
    "            test_loss += loss.item()\n",
    "            _, predicted = torch.max(outputs.data, 1)\n",
    "            test_correct += (predicted == targets).sum().item()\n",
    "    test_loss /= len(test_loader)\n",
    "    test_acc = test_correct / len(test_set)\n",
    "    print(\"Test loss: {:.4f}\".format(test_loss))\n",
    "    print(\"Test accuracy: {:.2f}\".format(test_acc*100))\n"
   ]
  },
  {
   "cell_type": "code",
   "execution_count": 9,
   "metadata": {},
   "outputs": [],
   "source": [
    "torch.save(model.state_dict(), \"model_weights.pt\")"
   ]
  },
  {
   "cell_type": "code",
   "execution_count": 10,
   "metadata": {},
   "outputs": [
    {
     "name": "stderr",
     "output_type": "stream",
     "text": [
      "100%|███████████████████████████████████████████| 34/34 [00:20<00:00,  1.69it/s]\n"
     ]
    }
   ],
   "source": [
    "model = CNN()\n",
    "model.double()\n",
    "model.load_state_dict(torch.load(\"model_weights.pt\"))\n",
    "model.eval()\n",
    "test_pred = []\n",
    "test_true = []\n",
    "with torch.no_grad():\n",
    "    for inputs, targets in tqdm(test_loader):\n",
    "        inputs = inputs.permute(0, 3, 1, 2)\n",
    "        outputs = model(inputs)\n",
    "        _, predicted = torch.max(outputs.data, 1)\n",
    "        test_true.extend(targets.numpy())\n",
    "        test_pred.extend(predicted.numpy())\n",
    "\n",
    "test_pred = np.array(test_pred)\n",
    "test_true = np.array(test_true)\n"
   ]
  },
  {
   "cell_type": "code",
   "execution_count": 12,
   "metadata": {},
   "outputs": [],
   "source": [
    "con_mat = confusion_matrix(test_true, test_pred, labels=range(18))\n",
    "np.save('confusion_matrix.npy', con_mat)"
   ]
  },
  {
   "cell_type": "code",
   "execution_count": null,
   "metadata": {},
   "outputs": [],
   "source": []
  }
 ],
 "metadata": {
  "kernelspec": {
   "display_name": "Python (bebi205)",
   "language": "python",
   "name": "bebi205"
  },
  "language_info": {
   "codemirror_mode": {
    "name": "ipython",
    "version": 3
   },
   "file_extension": ".py",
   "mimetype": "text/x-python",
   "name": "python",
   "nbconvert_exporter": "python",
   "pygments_lexer": "ipython3",
   "version": "3.10.10"
  },
  "vscode": {
   "interpreter": {
    "hash": "42372a1233b1c4f85631f3432b2c3b702ae71a9f50ad6e2f2a5b7582746add9c"
   }
  }
 },
 "nbformat": 4,
 "nbformat_minor": 4
}
