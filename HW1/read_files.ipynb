{
 "cells": [
  {
   "cell_type": "code",
   "execution_count": 1,
   "metadata": {
    "tags": []
   },
   "outputs": [],
   "source": [
    "import numpy as np\n",
    "import matplotlib.pyplot as plt\n",
    "import glob\n",
    "import cv2 as cv\n",
    "from skimage import exposure\n",
    "from tqdm import tqdm"
   ]
  },
  {
   "cell_type": "code",
   "execution_count": 2,
   "metadata": {
    "tags": []
   },
   "outputs": [],
   "source": [
    "def normalize(X):\n",
    "    for i in tqdm(range(X.shape[-1])):\n",
    "        X[..., i] = exposure.rescale_intensity(X[..., i], out_range=(-1, 1))\n",
    "        X[..., i] = exposure.equalize_adapthist(X[..., i])\n",
    "    return X"
   ]
  },
  {
   "cell_type": "code",
   "execution_count": 3,
   "metadata": {},
   "outputs": [],
   "source": [
    "files = glob.glob(\"keren/*.npz\")\n",
    "files = np.sort(np.array(files))"
   ]
  },
  {
   "cell_type": "code",
   "execution_count": 4,
   "metadata": {},
   "outputs": [],
   "source": [
    "def extract_cells(image, mask, ctypes, cells, labels):\n",
    "    cells_ind = np.unique(mask[:, :, 1])\n",
    "    cell_mask = mask[:, :, 1]\n",
    "    cell_size=64\n",
    "    for cell_ind in tqdm(cells_ind):\n",
    "        label = ctypes[cell_ind]\n",
    "        labels.append(label)\n",
    "        \n",
    "        x, y = np.where(cell_mask==cell_ind)\n",
    "        if len(x)==0 or len(y)==0:\n",
    "            continue\n",
    "        x1, y1, x2, y2 = x.min(), y.min(), x.max(), y.max()\n",
    "        padding = cell_size // 2\n",
    "        x1 = max(0, x1-padding)\n",
    "        y1 = max(0, y1-padding)\n",
    "        x2 = min(mask.shape[0], x2+padding)\n",
    "        y2 = min(mask.shape[1], y2+padding)\n",
    "        \n",
    "        cell = image[x1:x2, y1:y2]\n",
    "        cell_image = cv.resize(cell, (cell_size, cell_size))\n",
    "        cells.append(cell_image)\n",
    "            \n",
    "    return cells, labels"
   ]
  },
  {
   "cell_type": "code",
   "execution_count": 5,
   "metadata": {},
   "outputs": [
    {
     "name": "stderr",
     "output_type": "stream",
     "text": [
      "100%|███████████████████████████████████████████| 51/51 [00:46<00:00,  1.10it/s]\n"
     ]
    },
    {
     "ename": "NameError",
     "evalue": "name 'cells' is not defined",
     "output_type": "error",
     "traceback": [
      "\u001b[0;31m---------------------------------------------------------------------------\u001b[0m",
      "\u001b[0;31mNameError\u001b[0m                                 Traceback (most recent call last)",
      "Cell \u001b[0;32mIn[5], line 6\u001b[0m\n\u001b[1;32m      4\u001b[0m eq_X \u001b[38;5;241m=\u001b[39m normalize(image)\n\u001b[1;32m      5\u001b[0m ctypes \u001b[38;5;241m=\u001b[39m data[\u001b[38;5;124m\"\u001b[39m\u001b[38;5;124mcell_types\u001b[39m\u001b[38;5;124m\"\u001b[39m]\u001b[38;5;241m.\u001b[39mitem()\n\u001b[0;32m----> 6\u001b[0m cells, labels \u001b[38;5;241m=\u001b[39m extract_cells(image, mask, ctypes, \u001b[43mcells\u001b[49m, labels)\n\u001b[1;32m      8\u001b[0m cells \u001b[38;5;241m=\u001b[39m np\u001b[38;5;241m.\u001b[39marray(cells)\n\u001b[1;32m      9\u001b[0m labels \u001b[38;5;241m=\u001b[39m np\u001b[38;5;241m.\u001b[39marray(labels)\n",
      "\u001b[0;31mNameError\u001b[0m: name 'cells' is not defined"
     ]
    }
   ],
   "source": [
    "\n",
    "data = np.load(files[0], allow_pickle=True)\n",
    "image = data[\"X\"][0]\n",
    "mask = data[\"y\"][0]\n",
    "eq_X = normalize(image)\n",
    "ctypes = data[\"cell_types\"].item()\n",
    "cells, labels = extract_cells(image, mask, ctypes, cells, labels)\n",
    "\n",
    "cells = np.array(cells)\n",
    "labels = np.array(labels)"
   ]
  },
  {
   "cell_type": "code",
   "execution_count": null,
   "metadata": {
    "tags": []
   },
   "outputs": [],
   "source": [
    "cells, labels = process_data(files)"
   ]
  },
  {
   "cell_type": "code",
   "execution_count": null,
   "metadata": {},
   "outputs": [],
   "source": [
    "len(labels)"
   ]
  },
  {
   "cell_type": "code",
   "execution_count": null,
   "metadata": {},
   "outputs": [],
   "source": [
    "np.save(\"cell_channels.npy\", cells, allow_pickle=True)\n",
    "np.save(\"cell_labels.npy\", labels, allow_pickle=True)"
   ]
  }
 ],
 "metadata": {
  "kernelspec": {
   "display_name": "Python (bebi205)",
   "language": "python",
   "name": "bebi205"
  },
  "language_info": {
   "codemirror_mode": {
    "name": "ipython",
    "version": 3
   },
   "file_extension": ".py",
   "mimetype": "text/x-python",
   "name": "python",
   "nbconvert_exporter": "python",
   "pygments_lexer": "ipython3",
   "version": "3.10.10"
  },
  "vscode": {
   "interpreter": {
    "hash": "42372a1233b1c4f85631f3432b2c3b702ae71a9f50ad6e2f2a5b7582746add9c"
   }
  }
 },
 "nbformat": 4,
 "nbformat_minor": 4
}
