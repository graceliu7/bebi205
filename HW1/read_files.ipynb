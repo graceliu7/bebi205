{
 "cells": [
  {
   "cell_type": "code",
   "execution_count": 1,
   "metadata": {
    "tags": []
   },
   "outputs": [],
   "source": [
    "import numpy as np\n",
    "import matplotlib.pyplot as plt\n",
    "import glob\n",
    "import cv2 \n",
    "from skimage import exposure\n",
    "from tqdm import tqdm"
   ]
  },
  {
   "cell_type": "code",
   "execution_count": 2,
   "metadata": {
    "tags": []
   },
   "outputs": [],
   "source": [
    "def normalize(X):\n",
    "    for i in tqdm(range(X.shape[-1])):\n",
    "        X[..., i] = exposure.rescale_intensity(X[..., i], out_range=(-1, 1))\n",
    "        X[..., i] = exposure.equalize_adapthist(X[..., i])\n",
    "    return X"
   ]
  },
  {
   "cell_type": "code",
   "execution_count": 3,
   "metadata": {},
   "outputs": [],
   "source": [
    "files = glob.glob(\"keren/*.npz\")\n",
    "files = np.sort(np.array(files))"
   ]
  },
  {
   "cell_type": "code",
   "execution_count": 4,
   "metadata": {},
   "outputs": [],
   "source": [
    "def extract_cell_label(image, mask, ctypes):\n",
    "    cells_ind = np.unique(mask[:, :, 1])\n",
    "    cell_mask = mask[:, :, 1]\n",
    "    cell_size=64\n",
    "    cells = []\n",
    "    labels = []\n",
    "    for cell_ind in tqdm(cells_ind):\n",
    "        label = ctypes[cell_ind]\n",
    "        labels.append(label)\n",
    "        x, y = np.where(cell_mask==cell_ind)\n",
    "        \n",
    "        if len(x)==0 or len(y)==0:\n",
    "            continue\n",
    "        cell = image[x, y]\n",
    "        x1, y1, x2, y2 = x.min(), y.min(), x.max(), y.max()\n",
    "        single_cell_mask = np.zeros((x2-x1, y2-y1))\n",
    "        single_cell_mask = (cell_mask[x1:x2, y1:y2]==cell_ind)\n",
    "        \n",
    "        cell_image = image[x1:x2, y1:y2]\n",
    "        cell_image = cell_image * np.repeat(np.expand_dims(single_cell_mask, axis=2), 51, axis=2)\n",
    "        \n",
    "        cell_image = cv2.resize(cell_image, (cell_size, cell_size))\n",
    "        cells.append(cell_image)\n",
    "        \n",
    "    return cells, labels"
   ]
  },
  {
   "cell_type": "code",
   "execution_count": 5,
   "metadata": {},
   "outputs": [
    {
     "name": "stderr",
     "output_type": "stream",
     "text": [
      "100%|███████████████████████████████████████████| 51/51 [00:44<00:00,  1.14it/s]\n",
      "100%|███████████████████████████████████████| 5283/5283 [01:19<00:00, 66.12it/s]\n"
     ]
    }
   ],
   "source": [
    "\n",
    "data = np.load(files[0], allow_pickle=True)\n",
    "image = data[\"X\"][0]\n",
    "mask = data[\"y\"][0]\n",
    "eq_X = normalize(image)\n",
    "ctypes = data[\"cell_types\"].item()\n",
    "cells, labels = extract_cell_label(image, mask, ctypes)\n",
    "\n",
    "cells = np.array(cells)\n",
    "labels = np.array(labels)"
   ]
  },
  {
   "cell_type": "code",
   "execution_count": 7,
   "metadata": {},
   "outputs": [
    {
     "data": {
      "text/plain": [
       "5283"
      ]
     },
     "execution_count": 7,
     "metadata": {},
     "output_type": "execute_result"
    }
   ],
   "source": [
    "len(labels)"
   ]
  },
  {
   "cell_type": "code",
   "execution_count": 8,
   "metadata": {},
   "outputs": [],
   "source": [
    "np.save(\"cell_channels.npy\", cells, allow_pickle=True)\n",
    "np.save(\"cell_labels.npy\", labels, allow_pickle=True)"
   ]
  },
  {
   "cell_type": "code",
   "execution_count": null,
   "metadata": {},
   "outputs": [],
   "source": []
  }
 ],
 "metadata": {
  "kernelspec": {
   "display_name": "Python (bebi205)",
   "language": "python",
   "name": "bebi205"
  },
  "language_info": {
   "codemirror_mode": {
    "name": "ipython",
    "version": 3
   },
   "file_extension": ".py",
   "mimetype": "text/x-python",
   "name": "python",
   "nbconvert_exporter": "python",
   "pygments_lexer": "ipython3",
   "version": "3.10.10"
  },
  "vscode": {
   "interpreter": {
    "hash": "42372a1233b1c4f85631f3432b2c3b702ae71a9f50ad6e2f2a5b7582746add9c"
   }
  }
 },
 "nbformat": 4,
 "nbformat_minor": 4
}
